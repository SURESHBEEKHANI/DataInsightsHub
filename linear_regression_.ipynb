{
  "nbformat": 4,
  "nbformat_minor": 0,
  "metadata": {
    "colab": {
      "private_outputs": true,
      "provenance": [],
      "authorship_tag": "ABX9TyOKVwJLHv50LnBPTQkI2S2t",
      "include_colab_link": true
    },
    "kernelspec": {
      "name": "python3",
      "display_name": "Python 3"
    },
    "language_info": {
      "name": "python"
    }
  },
  "cells": [
    {
      "cell_type": "markdown",
      "metadata": {
        "id": "view-in-github",
        "colab_type": "text"
      },
      "source": [
        "<a href=\"https://colab.research.google.com/github/SURESHBEEKHANI/Data-Analysis-Projects/blob/main/linear_regression_.ipynb\" target=\"_parent\"><img src=\"https://colab.research.google.com/assets/colab-badge.svg\" alt=\"Open In Colab\"/></a>"
      ]
    },
    {
      "cell_type": "code",
      "execution_count": null,
      "metadata": {
        "id": "vxNp_7AbClYw"
      },
      "outputs": [],
      "source": [
        "import numpy as np\n",
        "import pandas as pd\n",
        "import matplotlib.pyplot as plt\n",
        "%matplotlib inline\n",
        "import sklearn\n",
        "import seaborn as sns\n",
        "import warnings\n",
        "warnings.filterwarnings('ignore')\n",
        "plt.rcParams[\"figure.figsize\"] = [10,5]\n",
        "# Ignore warnings\n",
        "\n",
        "import warnings\n",
        "# Set the warning filter to ignore FutureWarning\n",
        "warnings.simplefilter(action = \"ignore\", category = FutureWarning)"
      ]
    },
    {
      "cell_type": "code",
      "source": [
        "data=pd.read_csv(\"/content/USA_Housing.csv\")"
      ],
      "metadata": {
        "id": "33ch3G9KDlru"
      },
      "execution_count": null,
      "outputs": []
    },
    {
      "cell_type": "code",
      "source": [
        "#data shape\n",
        "data.shape"
      ],
      "metadata": {
        "id": "rRa1NcKCEWA0"
      },
      "execution_count": null,
      "outputs": []
    },
    {
      "cell_type": "code",
      "source": [
        "#View first few row of data\n",
        "data.head(5)"
      ],
      "metadata": {
        "id": "_GE_l8GVDyoB"
      },
      "execution_count": null,
      "outputs": []
    },
    {
      "cell_type": "code",
      "source": [
        "#data information\n",
        "data.info()"
      ],
      "metadata": {
        "id": "_uj0T0OwD8Bi"
      },
      "execution_count": null,
      "outputs": []
    },
    {
      "cell_type": "code",
      "source": [
        "# missing data view with heatmap\n",
        "sns.heatmap(data.isnull(),yticklabels=False,cbar=False,cmap='tab20c_r')\n",
        "plt.title('missing data trining set ')\n",
        "plt.show()"
      ],
      "metadata": {
        "id": "arWfjOH1FLUp"
      },
      "execution_count": null,
      "outputs": []
    },
    {
      "cell_type": "code",
      "source": [
        "## Remove Address feature\n",
        "data.drop(\"Address\",axis=1,inplace=True )"
      ],
      "metadata": {
        "id": "E30kdVv1Goni"
      },
      "execution_count": null,
      "outputs": []
    },
    {
      "cell_type": "code",
      "source": [
        "# Remove Rowes with missing data\n",
        "data.dropna(inplace=True)"
      ],
      "metadata": {
        "id": "ZPU5nrlyHZBJ"
      },
      "execution_count": null,
      "outputs": []
    },
    {
      "cell_type": "code",
      "source": [
        "data.head(5)"
      ],
      "metadata": {
        "id": "aX3qmcQGHtX8"
      },
      "execution_count": null,
      "outputs": []
    },
    {
      "cell_type": "code",
      "source": [
        "#Mathematical summary  of data\n",
        "data.describe()"
      ],
      "metadata": {
        "id": "VhW40OLxHyLN"
      },
      "execution_count": null,
      "outputs": []
    },
    {
      "cell_type": "code",
      "source": [
        "#Shape of trin data\n",
        "data.shape"
      ],
      "metadata": {
        "id": "8oG0_MsiIUb5"
      },
      "execution_count": null,
      "outputs": []
    },
    {
      "cell_type": "code",
      "source": [
        "#Split data used in models\n",
        "#Create matrix of features\n",
        "x=data.drop(\"Price\",axis=1)# grabs everything else but 'Price'\n",
        "#create target variable\n",
        "y=data['Price']# y is the column we're trying to predict"
      ],
      "metadata": {
        "id": "O9ij8RtQIf7Q"
      },
      "execution_count": null,
      "outputs": []
    },
    {
      "cell_type": "code",
      "source": [
        "from sklearn import preprocessing\n",
        "pre_process=preprocessing.StandardScaler().fit(x)\n",
        "x_transform = pre_process.fit_transform(x)\n"
      ],
      "metadata": {
        "id": "T80sFvcxKk1H"
      },
      "execution_count": null,
      "outputs": []
    },
    {
      "cell_type": "code",
      "source": [
        "# pipe = make_pipeline(StandardScaler(), LogisticRegression())\n",
        "# pipe.fit(X_train, y_train)"
      ],
      "metadata": {
        "id": "nZ-rdtXdMbwQ"
      },
      "execution_count": null,
      "outputs": []
    },
    {
      "cell_type": "code",
      "source": [
        "# x Represents the Features\n",
        "x_transform.shape\n",
        "x_transform"
      ],
      "metadata": {
        "id": "PrZ6-OSfOYiU"
      },
      "execution_count": null,
      "outputs": []
    },
    {
      "cell_type": "code",
      "source": [
        "y # y represents the Target\n",
        "y.shape"
      ],
      "metadata": {
        "id": "1kJPK588OzW2"
      },
      "execution_count": null,
      "outputs": []
    },
    {
      "cell_type": "code",
      "source": [
        "#Use x and y variables to split the training data into train and test set\n",
        "from sklearn.model_selection import train_test_split\n",
        "x_train, x_test, y_train, y_test= train_test_split(x_transform, y, test_size = .10, random_state = 101)"
      ],
      "metadata": {
        "id": "tlg7-EMRPC7Z"
      },
      "execution_count": null,
      "outputs": []
    },
    {
      "cell_type": "code",
      "source": [
        "# Fit\n",
        "# Import model\n",
        "from sklearn.linear_model import LinearRegression\n",
        "from sklearn.pipeline import make_pipeline\n",
        "from sklearn.preprocessing import StandardScaler\n",
        "\n",
        "# Create instance of model\n",
        "lin_reg = LinearRegression()\n",
        "\n",
        "# Pass training data into model\n",
        "lin_reg.fit(x_train, y_train)\n",
        "# pipe = make_pipeline(StandardScaler(), LinearRegression())\n",
        "# pipe.fit(x_train, y_train)"
      ],
      "metadata": {
        "id": "sSyudX2myP0L"
      },
      "execution_count": null,
      "outputs": []
    },
    {
      "cell_type": "code",
      "source": [
        "# Predict\n",
        "y_pred = lin_reg.predict(x_test)\n",
        "print(y_pred.shape)\n",
        "print(y_pred)"
      ],
      "metadata": {
        "id": "Z7wixAdA8AEd"
      },
      "execution_count": null,
      "outputs": []
    },
    {
      "cell_type": "code",
      "source": [
        "sns.scatterplot(x=y_test, y=y_pred, color='blue', label='Actual Data points')\n",
        "plt.plot([min(y_test), max(y_test)], [min(y_test), max(y_test)], color='red', label='Ideal Line')\n",
        "plt.legend()\n",
        "plt.show()"
      ],
      "metadata": {
        "id": "rKmfA4Hv80_o"
      },
      "execution_count": null,
      "outputs": []
    },
    {
      "cell_type": "code",
      "source": [
        "# Combine actual and predicted values side by side\n",
        "results = np.column_stack((y_test, y_pred))\n",
        "\n",
        "# Printing the results\n",
        "print(\"Actual Values  |  Predicted Values\")\n",
        "print(\"-----------------------------\")\n",
        "for actual, predicted in results:\n",
        "    print(f\"{actual:14.2f} |  {predicted:12.2f}\")"
      ],
      "metadata": {
        "id": "1W7PDDDc-Xzn"
      },
      "execution_count": null,
      "outputs": []
    },
    {
      "cell_type": "code",
      "source": [
        "residual = actual- y_pred.reshape(-1)\n",
        "print(residual)"
      ],
      "metadata": {
        "id": "9ir1TVCZ-mbe"
      },
      "execution_count": null,
      "outputs": []
    },
    {
      "cell_type": "code",
      "source": [
        "# Distribution plot for Residual (difference between actual and predicted values)\n",
        "sns.distplot(residual, kde=True)"
      ],
      "metadata": {
        "id": "5FCs2Fyu_qI5"
      },
      "execution_count": null,
      "outputs": []
    },
    {
      "cell_type": "code",
      "source": [
        "# Score It\n",
        "from sklearn.metrics import mean_squared_error\n",
        "\n",
        "print('Linear Regression Model')\n",
        "# Results\n",
        "print('--'*30)\n",
        "# mean_squared_error(y_test, y_pred)\n",
        "mse = mean_squared_error(y_test, y_pred)\n",
        "rmse = np.sqrt(mse)\n",
        "\n",
        "# Print evaluation metrics\n",
        "print(\"Mean Squared Error:\", mse)\n",
        "print(\"Root Mean Squared Error:\", rmse)"
      ],
      "metadata": {
        "id": "MOpcYAXD_z3y"
      },
      "execution_count": null,
      "outputs": []
    },
    {
      "cell_type": "code",
      "source": [
        "# Linear Regression Model\n",
        "# ------------------------------------------------------------\n",
        "# Mean Squared Error: 10100187858.864885\n",
        "# Root Mean Squared Error: 100499.69083964829\n",
        "\n",
        "\n",
        "# 10170939558"
      ],
      "metadata": {
        "id": "LI02Wb-d__7-"
      },
      "execution_count": null,
      "outputs": []
    },
    {
      "cell_type": "code",
      "source": [
        "s = 10100187858 - 9839952411\n",
        "print(s)"
      ],
      "metadata": {
        "id": "ppkBb7E6AMLC"
      },
      "execution_count": null,
      "outputs": []
    },
    {
      "cell_type": "code",
      "source": [
        "y_train.shape"
      ],
      "metadata": {
        "id": "JypTSu7xAbho"
      },
      "execution_count": null,
      "outputs": []
    }
  ]
}