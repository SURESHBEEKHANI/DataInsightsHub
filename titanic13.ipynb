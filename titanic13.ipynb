{
  "nbformat": 4,
  "nbformat_minor": 0,
  "metadata": {
    "colab": {
      "private_outputs": true,
      "provenance": [],
      "authorship_tag": "ABX9TyNKW59sxMaoxdVeY0Ts/CAs",
      "include_colab_link": true
    },
    "kernelspec": {
      "name": "python3",
      "display_name": "Python 3"
    },
    "language_info": {
      "name": "python"
    }
  },
  "cells": [
    {
      "cell_type": "markdown",
      "metadata": {
        "id": "view-in-github",
        "colab_type": "text"
      },
      "source": [
        "<a href=\"https://colab.research.google.com/github/SURESHBEEKHANI/Data-Analysis-Projects/blob/main/titanic13.ipynb\" target=\"_parent\"><img src=\"https://colab.research.google.com/assets/colab-badge.svg\" alt=\"Open In Colab\"/></a>"
      ]
    },
    {
      "cell_type": "code",
      "execution_count": null,
      "metadata": {
        "id": "Pr56l_d6YDPk"
      },
      "outputs": [],
      "source": [
        "import numpy as np\n",
        "import pandas as pd\n",
        "import matplotlib.pyplot as plt\n",
        "%matplotlib inline\n",
        "import seaborn as sns\n",
        "import warnings\n",
        "warnings.filterwarnings('ignore')\n",
        "plt.rcParams[\"figure.figsize\"] = [10,5]\n",
        "# Ignore warnings\n",
        "import warnings\n",
        "# Set the warning filter to ignore FutureWarning\n",
        "warnings.simplefilter(action = \"ignore\", category = FutureWarning)"
      ]
    },
    {
      "cell_type": "code",
      "source": [
        "data=pd.read_csv('/content/titanic_dataset.csv')"
      ],
      "metadata": {
        "id": "VMGt_NZNbsHO"
      },
      "execution_count": null,
      "outputs": []
    },
    {
      "cell_type": "code",
      "source": [
        "data.head(5)"
      ],
      "metadata": {
        "id": "CZVq4EhjcPrg"
      },
      "execution_count": null,
      "outputs": []
    },
    {
      "cell_type": "code",
      "source": [
        "data.tail()"
      ],
      "metadata": {
        "id": "JHZV9kzRcdu7"
      },
      "execution_count": null,
      "outputs": []
    },
    {
      "cell_type": "code",
      "source": [
        "data.count()"
      ],
      "metadata": {
        "id": "2WfSy3sdcvqP"
      },
      "execution_count": null,
      "outputs": []
    },
    {
      "cell_type": "code",
      "source": [
        "data.info()"
      ],
      "metadata": {
        "id": "bs6dB9kewMUx"
      },
      "execution_count": null,
      "outputs": []
    },
    {
      "cell_type": "code",
      "source": [
        "#Now let's See in histogram Number of  Parents and Children IN Passenger\n",
        "sns.histplot(data['Parch'],kde=False)\n",
        "plt.show"
      ],
      "metadata": {
        "id": "7TnL4ZXrwRt9"
      },
      "execution_count": null,
      "outputs": []
    },
    {
      "cell_type": "markdown",
      "source": [
        "## As we can see, most passengers don't have neither parents nor children in titanic"
      ],
      "metadata": {
        "id": "YL6gAho3z4MD"
      }
    },
    {
      "cell_type": "code",
      "source": [
        "sns.distplot(data['Age'], hist=False)\n",
        "plt.show()"
      ],
      "metadata": {
        "id": "wWfwF-3KzX6F"
      },
      "execution_count": null,
      "outputs": []
    },
    {
      "cell_type": "markdown",
      "source": [
        "As we can See passanger Age 20 to 40 in titanic"
      ],
      "metadata": {
        "id": "CU6DeHw90XYc"
      }
    },
    {
      "cell_type": "code",
      "source": [
        "plt.figure(figsize=(8,8))\n",
        "sns.distplot(data['Age'])\n",
        "plt.show()"
      ],
      "metadata": {
        "id": "_LtoYrcRydUP"
      },
      "execution_count": null,
      "outputs": []
    },
    {
      "cell_type": "code",
      "source": [
        "sns.relplot(x=\"Age\", y=\"Fare\", col=\"Pclass\", hue=\"Sex\", style=\"Sex\",kind=\"line\", data=data) # scatter can be used instead of \"line\" plot\n",
        "plt.show()"
      ],
      "metadata": {
        "id": "NBLIX3qj3pt6"
      },
      "execution_count": null,
      "outputs": []
    },
    {
      "cell_type": "markdown",
      "source": [],
      "metadata": {
        "id": "R443Vm7S5Tcg"
      }
    },
    {
      "cell_type": "markdown",
      "source": [
        "As we can More Fare in titanic female and Male and Age  40 to 20"
      ],
      "metadata": {
        "id": "FcLzVCEi4bt_"
      }
    },
    {
      "cell_type": "code",
      "source": [
        "plt.figure(figsize=(8,8))\n",
        "sns.scatterplot(x='Age',y='Fare',hue='Sex',data=data)\n",
        "plt.show()"
      ],
      "metadata": {
        "id": "RQKOotu71aoE"
      },
      "execution_count": null,
      "outputs": []
    },
    {
      "cell_type": "code",
      "source": [
        "plt.figure(figsize=(8,8))\n",
        "sns.barplot(x='Sex',y='Survived',hue='Sex',data=data)\n",
        "plt.show()"
      ],
      "metadata": {
        "id": "CS27M9Ax3CSQ"
      },
      "execution_count": null,
      "outputs": []
    },
    {
      "cell_type": "markdown",
      "source": [
        "# As We Can Survived Male B/W in Titanic"
      ],
      "metadata": {
        "id": "g6JDOLD96ugX"
      }
    },
    {
      "cell_type": "code",
      "source": [
        "plt.figure(figsize=(8,8))\n",
        "sns.stripplot(x=\"Sex\", y=\"Age\",hue='Sex', data=data)\n",
        "plt.show()\n"
      ],
      "metadata": {
        "id": "BQn07HoS6teN"
      },
      "execution_count": null,
      "outputs": []
    },
    {
      "cell_type": "markdown",
      "source": [
        "**As We Can See Male and Female More Age in titanic is 20 to 40 **"
      ],
      "metadata": {
        "id": "71M9EiuL8pgY"
      }
    },
    {
      "cell_type": "code",
      "source": [
        "plt.figure(figsize=(8,8))\n",
        "sns.swarmplot(x=\"Sex\", y=\"Age\",hue='Sex', data=data)\n",
        "plt.show()"
      ],
      "metadata": {
        "id": "yY0NfPzaAmA1"
      },
      "execution_count": null,
      "outputs": []
    },
    {
      "cell_type": "markdown",
      "source": [
        "As We Can See More Age in titanic Femal and Male"
      ],
      "metadata": {
        "id": "pjPIzFyOA-XM"
      }
    },
    {
      "cell_type": "code",
      "source": [
        "plt.figure(figsize=(8,8))\n",
        "sns.boxplot(x=\"Survived\", y=\"Age\", data=data)\n",
        "plt.show()"
      ],
      "metadata": {
        "id": "n3YAA9XbA7Gy"
      },
      "execution_count": null,
      "outputs": []
    },
    {
      "cell_type": "code",
      "source": [
        "sns.violinplot(x=\"Survived\", y=\"Age\", hue='Sex', data=data)\n",
        "plt.show()"
      ],
      "metadata": {
        "id": "Clq0uRPzCo2F"
      },
      "execution_count": null,
      "outputs": []
    },
    {
      "cell_type": "code",
      "source": [
        "sns.countplot(x=\"Survived\", data=data, palette=\"Blues\");\n",
        "plt.show()"
      ],
      "metadata": {
        "id": "_JzCouXDDDki"
      },
      "execution_count": null,
      "outputs": []
    },
    {
      "cell_type": "code",
      "source": [
        "plt.subplots(figsize=(8, 8))\n",
        "sns.pointplot(x=\"Sex\", y=\"Survived\", hue=\"Pclass\", data=data)\n",
        "plt.show()"
      ],
      "metadata": {
        "id": "Li-bJsD-NeJe"
      },
      "execution_count": null,
      "outputs": []
    },
    {
      "cell_type": "code",
      "source": [
        "sns.lmplot(x=\"Age\", y=\"Fare\", data=data)\n",
        "plt.show()"
      ],
      "metadata": {
        "id": "sfSpEI7tQJgj"
      },
      "execution_count": null,
      "outputs": []
    },
    {
      "cell_type": "code",
      "source": [
        "plt.subplots(figsize=(10, 10))\n",
        "sns.regplot(x=\"Age\", y=\"Fare\", data=data)\n",
        "plt.show()"
      ],
      "metadata": {
        "id": "xlTWz0AWQeVr"
      },
      "execution_count": null,
      "outputs": []
    },
    {
      "cell_type": "code",
      "source": [
        "plt.subplots(figsize=(10, 10))\n",
        "sns.regplot(x=\"Fare\", y=\"Fare\", data=data)\n",
        "plt.show()"
      ],
      "metadata": {
        "id": "9CXHP2w1Q565"
      },
      "execution_count": null,
      "outputs": []
    },
    {
      "cell_type": "code",
      "source": [
        "plt.subplots(figsize=(10, 10))\n",
        "sns.heatmap(data=data.corr(), cmap = \"YlGnBu\", annot=True, fmt=\".2f\")\n",
        "plt.show()"
      ],
      "metadata": {
        "id": "U1o7YAmeRI5V"
      },
      "execution_count": null,
      "outputs": []
    },
    {
      "cell_type": "code",
      "source": [
        "# initialize the FacetGrid object\n",
        "g = sns.FacetGrid(data, col='Survived', row='Pclass')\n",
        "\n",
        "g.map(plt.hist, 'Age')\n",
        "g.add_legend()\n",
        "plt.show()"
      ],
      "metadata": {
        "id": "nqn9jqt4R9TX"
      },
      "execution_count": null,
      "outputs": []
    }
  ]
}