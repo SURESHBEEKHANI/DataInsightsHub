{
  "nbformat": 4,
  "nbformat_minor": 0,
  "metadata": {
    "colab": {
      "private_outputs": true,
      "provenance": [],
      "authorship_tag": "ABX9TyOY2v7fiFxZIF4w52Bwmw44",
      "include_colab_link": true
    },
    "kernelspec": {
      "name": "python3",
      "display_name": "Python 3"
    },
    "language_info": {
      "name": "python"
    }
  },
  "cells": [
    {
      "cell_type": "markdown",
      "metadata": {
        "id": "view-in-github",
        "colab_type": "text"
      },
      "source": [
        "<a href=\"https://colab.research.google.com/github/SURESHBEEKHANI/Data-Analysis-Projects/blob/main/Customer_Segmentation_.ipynb\" target=\"_parent\"><img src=\"https://colab.research.google.com/assets/colab-badge.svg\" alt=\"Open In Colab\"/></a>"
      ]
    },
    {
      "cell_type": "code",
      "source": [
        "!pip install fpdf"
      ],
      "metadata": {
        "id": "EAi2MZsmUB2H"
      },
      "execution_count": null,
      "outputs": []
    },
    {
      "cell_type": "code",
      "execution_count": null,
      "metadata": {
        "id": "93Z1mrPAN6T-"
      },
      "outputs": [],
      "source": [
        "#import Python library\n",
        "import pandas as pd\n",
        "import seaborn as sns\n",
        "import matplotlib.pyplot as plt\n",
        "from sklearn.cluster import KMeans\n",
        "import warnings\n",
        "warnings.filterwarnings('ignore')\n"
      ]
    },
    {
      "cell_type": "code",
      "source": [
        "#load Data set\n",
        "df=pd.read_csv(\"/content/Mall_Customers.csv\")\n"
      ],
      "metadata": {
        "id": "VZTNRXfiPV0l"
      },
      "execution_count": null,
      "outputs": []
    },
    {
      "cell_type": "code",
      "source": [
        "df.head()"
      ],
      "metadata": {
        "id": "LYVA9CfQP0oT"
      },
      "execution_count": null,
      "outputs": []
    },
    {
      "cell_type": "markdown",
      "source": [
        "# **Univariate Analysis**"
      ],
      "metadata": {
        "id": "ePioku3IQ2CC"
      }
    },
    {
      "cell_type": "code",
      "source": [
        "df.describe()"
      ],
      "metadata": {
        "id": "vqN-GVGSREiQ"
      },
      "execution_count": null,
      "outputs": []
    },
    {
      "cell_type": "code",
      "source": [
        "sns.distplot(df['Annual Income (k$)']);"
      ],
      "metadata": {
        "id": "ctBatteNR7DJ"
      },
      "execution_count": null,
      "outputs": []
    },
    {
      "cell_type": "code",
      "source": [
        "df.columns"
      ],
      "metadata": {
        "id": "Mv7DLJJVUycy"
      },
      "execution_count": null,
      "outputs": []
    },
    {
      "cell_type": "code",
      "source": [
        "from matplotlib import figure\n",
        "columns=[ 'Age','Annual Income (k$)','Spending Score (1-100)']\n",
        "for i in columns:\n",
        " plt.figure()\n",
        " sns.distplot(df[i])\n"
      ],
      "metadata": {
        "id": "JrF07m48VDvq"
      },
      "execution_count": null,
      "outputs": []
    },
    {
      "cell_type": "code",
      "source": [
        "columns = ['Age', 'Annual Income (k$)','Spending Score (1-100)']\n",
        "for i in columns:\n",
        "    plt.figure()\n",
        "    sns.boxplot(data=df,x='Gender',y=df[i])"
      ],
      "metadata": {
        "id": "iH_na-dwizxF"
      },
      "execution_count": null,
      "outputs": []
    },
    {
      "cell_type": "code",
      "source": [
        "df['Gender'].value_counts(normalize=True)"
      ],
      "metadata": {
        "id": "Iznq0DP8PxzC"
      },
      "execution_count": null,
      "outputs": []
    },
    {
      "cell_type": "markdown",
      "source": [
        "**Bivariate Analysis**"
      ],
      "metadata": {
        "id": "l-QbzHOCP9tj"
      }
    },
    {
      "cell_type": "code",
      "source": [
        "sns.scatterplot(data=df, x='Annual Income (k$)',y='Spending Score (1-100)' )"
      ],
      "metadata": {
        "id": "QxnYVKp-P0x6"
      },
      "execution_count": null,
      "outputs": []
    },
    {
      "cell_type": "code",
      "source": [
        "#df=df.drop('CustomerID',axis=1)\n",
        "sns.pairplot(df,hue='Gender')"
      ],
      "metadata": {
        "id": "fAOwtmbdQHWk"
      },
      "execution_count": null,
      "outputs": []
    },
    {
      "cell_type": "code",
      "source": [
        "df.groupby(['Gender'])['Age', 'Annual Income (k$)',\n",
        "       'Spending Score (1-100)'].mean()"
      ],
      "metadata": {
        "id": "8iM1uzdKQaxY"
      },
      "execution_count": null,
      "outputs": []
    },
    {
      "cell_type": "code",
      "source": [
        "df.corr()"
      ],
      "metadata": {
        "id": "BTl-brlFQj3x"
      },
      "execution_count": null,
      "outputs": []
    },
    {
      "cell_type": "code",
      "source": [
        "sns.heatmap(df.corr(),annot=True,cmap='coolwarm')"
      ],
      "metadata": {
        "id": "8jGVn4eaQq6H"
      },
      "execution_count": null,
      "outputs": []
    },
    {
      "cell_type": "markdown",
      "source": [
        "# **Clustering - Univariate, Bivariate, Multivariate**"
      ],
      "metadata": {
        "id": "-445_YrSRCJs"
      }
    },
    {
      "cell_type": "code",
      "source": [
        "clustering1 = KMeans(n_clusters=3)"
      ],
      "metadata": {
        "id": "F-_onDDvRHmx"
      },
      "execution_count": null,
      "outputs": []
    },
    {
      "cell_type": "code",
      "source": [
        "clustering1.fit(df[['Annual Income (k$)']])"
      ],
      "metadata": {
        "id": "b_MAEC3CRNR2"
      },
      "execution_count": null,
      "outputs": []
    },
    {
      "cell_type": "code",
      "source": [
        "clustering1.labels_"
      ],
      "metadata": {
        "id": "zI_KGHtWRQIS"
      },
      "execution_count": null,
      "outputs": []
    },
    {
      "cell_type": "code",
      "source": [
        "df['Income Cluster'] = clustering1.labels_\n",
        "df.head()"
      ],
      "metadata": {
        "id": "UJH-1LN8RWG8"
      },
      "execution_count": null,
      "outputs": []
    },
    {
      "cell_type": "code",
      "source": [
        "df['Income Cluster'].value_counts()"
      ],
      "metadata": {
        "id": "CGJ_OwDqRaRj"
      },
      "execution_count": null,
      "outputs": []
    },
    {
      "cell_type": "code",
      "source": [
        "clustering1.inertia_"
      ],
      "metadata": {
        "id": "BQ3BUZ3aRfaf"
      },
      "execution_count": null,
      "outputs": []
    },
    {
      "cell_type": "code",
      "source": [
        "intertia_scores=[]\n",
        "for i in range(1,11):\n",
        "    kmeans=KMeans(n_clusters=i)\n",
        "    kmeans.fit(df[['Annual Income (k$)']])\n",
        "    intertia_scores.append(kmeans.inertia_)"
      ],
      "metadata": {
        "id": "XkoWspKCRhi_"
      },
      "execution_count": null,
      "outputs": []
    },
    {
      "cell_type": "code",
      "source": [
        "intertia_scores"
      ],
      "metadata": {
        "id": "hLjWZySCRl5H"
      },
      "execution_count": null,
      "outputs": []
    },
    {
      "cell_type": "code",
      "source": [
        "plt.plot(range(1,11),intertia_scores)"
      ],
      "metadata": {
        "id": "WUzmOeK9RubS"
      },
      "execution_count": null,
      "outputs": []
    },
    {
      "cell_type": "code",
      "source": [
        "df.groupby('Income Cluster')['Age', 'Annual Income (k$)',\n",
        "       'Spending Score (1-100)'].mean()"
      ],
      "metadata": {
        "id": "xu6oR-ggRyTl"
      },
      "execution_count": null,
      "outputs": []
    },
    {
      "cell_type": "code",
      "source": [
        "#Bivariate Clustering\n",
        "clustering2 = KMeans(n_clusters=5)\n",
        "clustering2.fit(df[['Annual Income (k$)','Spending Score (1-100)']])\n",
        "df['Spending and Income Cluster'] =clustering2.labels_\n",
        "df.head()\n"
      ],
      "metadata": {
        "id": "qrH8cBGwSCSg"
      },
      "execution_count": null,
      "outputs": []
    },
    {
      "cell_type": "code",
      "source": [
        "intertia_scores2=[]\n",
        "for i in range(1,11):\n",
        "    kmeans2=KMeans(n_clusters=i)\n",
        "    kmeans2.fit(df[['Annual Income (k$)','Spending Score (1-100)']])\n",
        "    intertia_scores2.append(kmeans2.inertia_)\n",
        "plt.plot(range(1,11),intertia_scores2)"
      ],
      "metadata": {
        "id": "CD95imNSSLmm"
      },
      "execution_count": null,
      "outputs": []
    },
    {
      "cell_type": "code",
      "source": [
        "centers =pd.DataFrame(clustering2.cluster_centers_)\n",
        "centers.columns = ['x','y']"
      ],
      "metadata": {
        "id": "_IzVTktOSRck"
      },
      "execution_count": null,
      "outputs": []
    },
    {
      "cell_type": "code",
      "source": [
        "plt.figure(figsize=(10,8))\n",
        "plt.scatter(x=centers['x'],y=centers['y'],s=100,c='black',marker='*')\n",
        "sns.scatterplot(data=df, x ='Annual Income (k$)',y='Spending Score (1-100)',hue='Spending and Income Cluster',palette='tab10')\n",
        "plt.savefig('clustering_bivaraiate.png')"
      ],
      "metadata": {
        "id": "HhR7yxSMSVpB"
      },
      "execution_count": null,
      "outputs": []
    },
    {
      "cell_type": "code",
      "source": [
        "pd.crosstab(df['Spending and Income Cluster'],df['Gender'],normalize='index')"
      ],
      "metadata": {
        "id": "97s7sRPuSjUO"
      },
      "execution_count": null,
      "outputs": []
    },
    {
      "cell_type": "code",
      "source": [
        "df.groupby('Spending and Income Cluster')['Age', 'Annual Income (k$)',\n",
        "       'Spending Score (1-100)'].mean()"
      ],
      "metadata": {
        "id": "b4vLToIGSoKk"
      },
      "execution_count": null,
      "outputs": []
    },
    {
      "cell_type": "code",
      "source": [
        "#mulivariate clustering\n",
        "from sklearn.preprocessing import StandardScaler"
      ],
      "metadata": {
        "id": "o3fPIr10SrJM"
      },
      "execution_count": null,
      "outputs": []
    },
    {
      "cell_type": "code",
      "source": [
        "scale = StandardScaler()"
      ],
      "metadata": {
        "id": "IPrrb03pSvam"
      },
      "execution_count": null,
      "outputs": []
    },
    {
      "cell_type": "code",
      "source": [
        "df.head()"
      ],
      "metadata": {
        "id": "ZPgNcT5ESyKP"
      },
      "execution_count": null,
      "outputs": []
    },
    {
      "cell_type": "code",
      "source": [
        "dff = pd.get_dummies(df,drop_first=True)\n",
        "dff.head()"
      ],
      "metadata": {
        "id": "CqXm0S2eS160"
      },
      "execution_count": null,
      "outputs": []
    },
    {
      "cell_type": "code",
      "source": [
        "dff = dff[['Age', 'Annual Income (k$)', 'Spending Score (1-100)','Gender_Male']]\n",
        "dff.head()"
      ],
      "metadata": {
        "id": "rtZyT479S8m6"
      },
      "execution_count": null,
      "outputs": []
    },
    {
      "cell_type": "code",
      "source": [
        "dff = scale.fit_transform(dff)"
      ],
      "metadata": {
        "id": "wDgNcnMgTJP3"
      },
      "execution_count": null,
      "outputs": []
    },
    {
      "cell_type": "code",
      "source": [
        "dff = pd.DataFrame(scale.fit_transform(dff))\n",
        "dff.head()"
      ],
      "metadata": {
        "id": "yQ26FhrmTNLP"
      },
      "execution_count": null,
      "outputs": []
    },
    {
      "cell_type": "code",
      "source": [
        "intertia_scores3=[]\n",
        "for i in range(1,11):\n",
        "    kmeans3=KMeans(n_clusters=i)\n",
        "    kmeans3.fit(dff)\n",
        "    intertia_scores3.append(kmeans3.inertia_)\n",
        "plt.plot(range(1,11),intertia_scores3)"
      ],
      "metadata": {
        "id": "ZYYhgCadTP0v"
      },
      "execution_count": null,
      "outputs": []
    },
    {
      "cell_type": "code",
      "source": [
        "df"
      ],
      "metadata": {
        "id": "hUkkQEZuTXQ4"
      },
      "execution_count": null,
      "outputs": []
    },
    {
      "cell_type": "code",
      "source": [
        "df.to_csv('Clustering.csv')"
      ],
      "metadata": {
        "id": "bv7_pI-UTeQt"
      },
      "execution_count": null,
      "outputs": []
    },
    {
      "cell_type": "code",
      "source": [],
      "metadata": {
        "id": "vN521amFUITe"
      },
      "execution_count": null,
      "outputs": []
    }
  ]
}