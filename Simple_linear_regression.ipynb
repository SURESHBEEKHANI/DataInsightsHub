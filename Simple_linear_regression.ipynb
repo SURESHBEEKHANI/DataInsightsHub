{
  "nbformat": 4,
  "nbformat_minor": 0,
  "metadata": {
    "colab": {
      "private_outputs": true,
      "provenance": [],
      "authorship_tag": "ABX9TyOVBlty4B0WasUK9Idmi8nH",
      "include_colab_link": true
    },
    "kernelspec": {
      "name": "python3",
      "display_name": "Python 3"
    },
    "language_info": {
      "name": "python"
    }
  },
  "cells": [
    {
      "cell_type": "markdown",
      "metadata": {
        "id": "view-in-github",
        "colab_type": "text"
      },
      "source": [
        "<a href=\"https://colab.research.google.com/github/SURESHBEEKHANI/Data-Analysis-Projects/blob/main/Simple_linear_regression.ipynb\" target=\"_parent\"><img src=\"https://colab.research.google.com/assets/colab-badge.svg\" alt=\"Open In Colab\"/></a>"
      ]
    },
    {
      "cell_type": "code",
      "execution_count": null,
      "metadata": {
        "id": "lV58pu-ms0su"
      },
      "outputs": [],
      "source": [
        "#import library\n",
        "import matplotlib .pyplot as plt\n",
        "import pandas as pd\n",
        "import numpy as np"
      ]
    },
    {
      "cell_type": "code",
      "source": [
        "#Read data set\n",
        "data=pd.read_csv(\"/content/placement (1).csv\")"
      ],
      "metadata": {
        "id": "sUDa1nDBtu59"
      },
      "execution_count": null,
      "outputs": []
    },
    {
      "cell_type": "code",
      "source": [
        "data.head(5)"
      ],
      "metadata": {
        "id": "9IvQp7s_uNES"
      },
      "execution_count": null,
      "outputs": []
    },
    {
      "cell_type": "code",
      "source": [
        "#plot data in Graph\n",
        "plt.scatter(data['cgpa'],data['package'])\n",
        "plt.xlabel('cgpa')\n",
        "plt.ylabel('package')"
      ],
      "metadata": {
        "id": "Y6Th9dKQuUCq"
      },
      "execution_count": null,
      "outputs": []
    },
    {
      "cell_type": "code",
      "source": [
        "x=data.iloc[:,0:1]\n",
        "y=data.iloc[:,-1]"
      ],
      "metadata": {
        "id": "KXeEG8nuvYA2"
      },
      "execution_count": null,
      "outputs": []
    },
    {
      "cell_type": "code",
      "source": [
        "from sklearn.model_selection import train_test_split\n",
        "x_train,x_test,y_train,y_test=train_test_split(x,y,test_size=0.2,random_state=2)"
      ],
      "metadata": {
        "id": "dBuUmtmXvu_P"
      },
      "execution_count": null,
      "outputs": []
    },
    {
      "cell_type": "code",
      "source": [
        "from sklearn.linear_model import LinearRegression\n",
        "\n",
        "# Assuming x_train and x_test are the input features for training and testing, respectively\n",
        "# and y_train and y_test are the corresponding target values.\n",
        "\n",
        "# Create a LinearRegression object\n",
        "lr = LinearRegression()\n",
        "\n",
        "# Fit the model on the training data\n",
        "lr.fit(x_train, y_train)\n"
      ],
      "metadata": {
        "id": "Z16bWaBgwgz3"
      },
      "execution_count": null,
      "outputs": []
    },
    {
      "cell_type": "code",
      "source": [
        "x_test"
      ],
      "metadata": {
        "id": "2EYQEO7wJkIX"
      },
      "execution_count": null,
      "outputs": []
    },
    {
      "cell_type": "code",
      "source": [
        "y_test"
      ],
      "metadata": {
        "id": "10zPEjjbJrc8"
      },
      "execution_count": null,
      "outputs": []
    },
    {
      "cell_type": "code",
      "source": [
        "plt.scatter(data['cgpa'],data['package'])\n",
        "\n",
        "# Add labels and a title\n",
        "plt.xlabel('CGPA')\n",
        "plt.ylabel('Pakage (in lpa )')\n",
        "plt.plot(x_train,lr.predict(x_train),color='red')\n",
        "plt.title('linear Regression CGPA b/w Package')\n",
        "\n",
        "# Show a legend (if you have multiple datasets to distinguish)\n",
        "plt.legend()\n",
        "\n",
        "# Display the plot\n",
        "plt.show()\n",
        "\n",
        "\n",
        "\n",
        "\n",
        "\n"
      ],
      "metadata": {
        "id": "JQk9FBjhHISi"
      },
      "execution_count": null,
      "outputs": []
    }
  ]
}